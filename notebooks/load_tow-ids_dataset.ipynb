{
 "cells": [
  {
   "cell_type": "code",
   "execution_count": 1,
   "id": "dd150181",
   "metadata": {},
   "outputs": [],
   "source": [
    "import pandas as pd\n",
    "import numpy as np\n",
    "from scapy.all import rdpcap, raw\n",
    "\n",
    "from sklearn.preprocessing import LabelEncoder\n",
    "import torch"
   ]
  },
  {
   "cell_type": "markdown",
   "id": "a0a3442b",
   "metadata": {},
   "source": [
    "## Labels"
   ]
  },
  {
   "cell_type": "code",
   "execution_count": 3,
   "id": "06c445ee",
   "metadata": {},
   "outputs": [],
   "source": [
    "labels = pd.read_csv('../data/tow-ids-dataset/raw/y_train.csv', header=None, names=[\"index\", \"Class\", \"Description\"])"
   ]
  },
  {
   "cell_type": "code",
   "execution_count": 35,
   "id": "32a9c8df",
   "metadata": {},
   "outputs": [
    {
     "data": {
      "text/plain": [
       "(1203737, 3)"
      ]
     },
     "execution_count": 35,
     "metadata": {},
     "output_type": "execute_result"
    }
   ],
   "source": [
    "labels.shape"
   ]
  },
  {
   "cell_type": "code",
   "execution_count": 36,
   "id": "23e94024",
   "metadata": {},
   "outputs": [
    {
     "data": {
      "application/vnd.microsoft.datawrangler.viewer.v0+json": {
       "columns": [
        {
         "name": "index",
         "rawType": "int64",
         "type": "integer"
        },
        {
         "name": "index",
         "rawType": "int64",
         "type": "integer"
        },
        {
         "name": "Class",
         "rawType": "object",
         "type": "string"
        },
        {
         "name": "Description",
         "rawType": "object",
         "type": "string"
        }
       ],
       "conversionMethod": "pd.DataFrame",
       "ref": "25171db8-e20a-40c0-8e42-205433ab2679",
       "rows": [
        [
         "0",
         "1",
         "Normal",
         "Normal"
        ],
        [
         "1",
         "2",
         "Normal",
         "Normal"
        ],
        [
         "2",
         "3",
         "Normal",
         "Normal"
        ],
        [
         "3",
         "4",
         "Normal",
         "Normal"
        ],
        [
         "4",
         "5",
         "Normal",
         "Normal"
        ]
       ],
       "shape": {
        "columns": 3,
        "rows": 5
       }
      },
      "text/html": [
       "<div>\n",
       "<style scoped>\n",
       "    .dataframe tbody tr th:only-of-type {\n",
       "        vertical-align: middle;\n",
       "    }\n",
       "\n",
       "    .dataframe tbody tr th {\n",
       "        vertical-align: top;\n",
       "    }\n",
       "\n",
       "    .dataframe thead th {\n",
       "        text-align: right;\n",
       "    }\n",
       "</style>\n",
       "<table border=\"1\" class=\"dataframe\">\n",
       "  <thead>\n",
       "    <tr style=\"text-align: right;\">\n",
       "      <th></th>\n",
       "      <th>index</th>\n",
       "      <th>Class</th>\n",
       "      <th>Description</th>\n",
       "    </tr>\n",
       "  </thead>\n",
       "  <tbody>\n",
       "    <tr>\n",
       "      <th>0</th>\n",
       "      <td>1</td>\n",
       "      <td>Normal</td>\n",
       "      <td>Normal</td>\n",
       "    </tr>\n",
       "    <tr>\n",
       "      <th>1</th>\n",
       "      <td>2</td>\n",
       "      <td>Normal</td>\n",
       "      <td>Normal</td>\n",
       "    </tr>\n",
       "    <tr>\n",
       "      <th>2</th>\n",
       "      <td>3</td>\n",
       "      <td>Normal</td>\n",
       "      <td>Normal</td>\n",
       "    </tr>\n",
       "    <tr>\n",
       "      <th>3</th>\n",
       "      <td>4</td>\n",
       "      <td>Normal</td>\n",
       "      <td>Normal</td>\n",
       "    </tr>\n",
       "    <tr>\n",
       "      <th>4</th>\n",
       "      <td>5</td>\n",
       "      <td>Normal</td>\n",
       "      <td>Normal</td>\n",
       "    </tr>\n",
       "  </tbody>\n",
       "</table>\n",
       "</div>"
      ],
      "text/plain": [
       "   index   Class Description\n",
       "0      1  Normal      Normal\n",
       "1      2  Normal      Normal\n",
       "2      3  Normal      Normal\n",
       "3      4  Normal      Normal\n",
       "4      5  Normal      Normal"
      ]
     },
     "execution_count": 36,
     "metadata": {},
     "output_type": "execute_result"
    }
   ],
   "source": [
    "labels.head()"
   ]
  },
  {
   "cell_type": "code",
   "execution_count": 38,
   "id": "067b2134",
   "metadata": {},
   "outputs": [
    {
     "data": {
      "text/plain": [
       "Class\n",
       "Normal      954912\n",
       "Abnormal    248825\n",
       "Name: count, dtype: int64"
      ]
     },
     "execution_count": 38,
     "metadata": {},
     "output_type": "execute_result"
    }
   ],
   "source": [
    "labels['Class'].value_counts()"
   ]
  },
  {
   "cell_type": "code",
   "execution_count": 39,
   "id": "1711663c",
   "metadata": {},
   "outputs": [
    {
     "data": {
      "text/plain": [
       "Description\n",
       "Normal    954912\n",
       "C_D        85466\n",
       "P_I        64635\n",
       "F_I        35112\n",
       "M_F        33765\n",
       "C_R        29847\n",
       "Name: count, dtype: int64"
      ]
     },
     "execution_count": 39,
     "metadata": {},
     "output_type": "execute_result"
    }
   ],
   "source": [
    "labels['Description'].value_counts()"
   ]
  },
  {
   "cell_type": "code",
   "execution_count": 4,
   "id": "6b86b3d8",
   "metadata": {},
   "outputs": [],
   "source": [
    "mapping = {\n",
    "    'Normal': 'Normal',\n",
    "    'C_D': 'CAN DoS',\n",
    "    'P_I': 'PTP Sync',\n",
    "    'M_F': 'Switch MAC Flooding',\n",
    "    'F_I': 'Frame Injection',\n",
    "    'C_R': 'CAN Replay',\n",
    "}"
   ]
  },
  {
   "cell_type": "code",
   "execution_count": 5,
   "id": "2a941987",
   "metadata": {},
   "outputs": [
    {
     "data": {
      "text/plain": [
       "Description\n",
       "Normal                 954912\n",
       "CAN DoS                 85466\n",
       "PTP Sync                64635\n",
       "Frame Injection         35112\n",
       "Switch MAC Flooding     33765\n",
       "CAN Replay              29847\n",
       "Name: count, dtype: int64"
      ]
     },
     "execution_count": 5,
     "metadata": {},
     "output_type": "execute_result"
    }
   ],
   "source": [
    "labels['Description'] = labels['Description'].replace(mapping)\n",
    "labels['Description'].value_counts()"
   ]
  },
  {
   "cell_type": "markdown",
   "id": "df20f8cd",
   "metadata": {},
   "source": [
    "## Values"
   ]
  },
  {
   "cell_type": "code",
   "execution_count": 5,
   "id": "72723104",
   "metadata": {},
   "outputs": [],
   "source": [
    "raw_packets = rdpcap('../data/raw/tow-ids-dataset/Automotive_Ethernet_with_Attack_original_10_17_19_50_training.pcap', count=140319)"
   ]
  },
  {
   "cell_type": "code",
   "execution_count": 6,
   "id": "bb50cd8c",
   "metadata": {},
   "outputs": [
    {
     "data": {
      "text/plain": [
       "scapy.plist.PacketList"
      ]
     },
     "execution_count": 6,
     "metadata": {},
     "output_type": "execute_result"
    }
   ],
   "source": [
    "type(raw_packets)"
   ]
  },
  {
   "cell_type": "code",
   "execution_count": 7,
   "id": "03333f7a",
   "metadata": {},
   "outputs": [
    {
     "data": {
      "text/plain": [
       "1203737"
      ]
     },
     "execution_count": 7,
     "metadata": {},
     "output_type": "execute_result"
    }
   ],
   "source": [
    "labels.shape[0]"
   ]
  },
  {
   "cell_type": "code",
   "execution_count": 8,
   "id": "2e73e0a6",
   "metadata": {},
   "outputs": [
    {
     "data": {
      "text/plain": [
       "(5, False)"
      ]
     },
     "execution_count": 8,
     "metadata": {},
     "output_type": "execute_result"
    }
   ],
   "source": [
    "len(raw_packets), len(raw_packets) == labels.shape[0]"
   ]
  },
  {
   "cell_type": "code",
   "execution_count": 9,
   "id": "2369daee",
   "metadata": {},
   "outputs": [
    {
     "name": "stdout",
     "output_type": "stream",
     "text": [
      "434\n",
      "[145 239   0   0 254   0   0 252 112   0   0   3 129   0   0   2  34 240\n",
      "   0 136  22   0   1  35  69 103 137 171 205 239   0   0   0   0   0   0\n",
      "   0   0   1 136  95 160  63   6 196  96 160   0   0   0  45 145 232 183\n",
      "  71  64  65  16   0   0   1 224  15 174 129 128   5  33  97 137 159  65\n",
      "   0   0   0   1   6   1   4   0  24   8  16 128   0   0   0   1  97 225\n",
      " 130 111  51 239 135 226  86 238 222 188 102  12  24  83   9 106 141 246\n",
      "  35  27 162 252  88 240   8 114 129 110 154  95  47 121 164 254 165  25\n",
      "  78 195 183  85 185  84 157 215  51  12 213 107 113  24  54 217 114  57\n",
      "  35  58  22 232 235 134 210 121 206  53  98 222 244 246  16 173  94  59\n",
      " 239 108 110 248  57 245  48 239 246 222  14 235 151  44  81   8 127  60\n",
      " 122  53  85  47  61 207   2 140 137 118 187   8 242  52  44 115 124  59\n",
      " 225 123 208  63 144 228 149 144 132 180  94 205 183 188 163 186 239 137\n",
      "  72 232 172 125 174  30 160  33  60  90 236  83  31 217  26  57  93 214\n",
      " 183  33 123 104 165 208  49 230  45 145 232 183  71   0  65  17 246 104\n",
      " 228 217 125 120 231 134  29  98 156  23 243 164  73  29 171 224  91 242\n",
      " 113 254  16  98  53 235 131  33 126 110  93  16 244  93 253  16 124  87\n",
      "  19 181  94  14 161 216 227 220 116 208  96 248 198 252   8 202   1  24\n",
      "  70  21 197 146  47 215 239 250 205  96  71  13 236 137 230 127 171  84\n",
      "   3 121 116 154 202 243 149  19  60  93 201 212 233 188  30 142 115  80\n",
      "  46 217   6   1 126 220 107  81  92 187  20   5 109  92 242  44  66  95\n",
      "  94  60 143  11   2  54 150  58  37 195  25  45  47 124 183  61 220 221\n",
      " 121  80  75 173   6 135 104  26  86  28  31 116 242  37 195 100 189 104\n",
      " 160 213  86 255  15 152  42  34  95 167 152  58 112 184  59 123 162 218\n",
      " 112  36 206 177 194 222  35 199 136 157 143  44 177 200  78 210 230 142\n",
      " 180 125]\n",
      "[[145 239   0   0 254   0   0 252 112   0   0   3 129   0   0   2  34 240\n",
      "    0 136  22   0   1  35  69 103 137 171 205 239   0   0   0   0   0   0\n",
      "    0   0   1 136  95 160  63   6 196  96 160   0   0   0  45 145]]\n"
     ]
    }
   ],
   "source": [
    "for raw_packet in raw_packets:\n",
    "    converted_packet = np.frombuffer(raw(raw_packet), dtype='uint8')\n",
    "\n",
    "    print(len(converted_packet))\n",
    "    print(converted_packet)\n",
    "    print(np.array([converted_packet[:52]]))\n",
    "    break"
   ]
  },
  {
   "cell_type": "code",
   "execution_count": 7,
   "id": "766a68e6",
   "metadata": {},
   "outputs": [],
   "source": [
    "converted_packets_list = []\n",
    "for raw_packet in raw_packets[-10:-1]:\n",
    "    converted_packet = np.frombuffer(raw(raw_packet), dtype='uint8')\n",
    "    converted_packets_list.append(converted_packet[:52])\n",
    "values = np.array(converted_packets_list, dtype='uint8')"
   ]
  },
  {
   "cell_type": "code",
   "execution_count": 8,
   "id": "ac72ff72",
   "metadata": {},
   "outputs": [
    {
     "data": {
      "text/plain": [
       "(9, 52)"
      ]
     },
     "execution_count": 8,
     "metadata": {},
     "output_type": "execute_result"
    }
   ],
   "source": [
    "values.shape"
   ]
  },
  {
   "cell_type": "code",
   "execution_count": 9,
   "id": "a9df14ee",
   "metadata": {},
   "outputs": [
    {
     "data": {
      "text/plain": [
       "array([[220, 166,  50,  94,  72,  71, 220, 166,  50,  93, 206, 210,   8,\n",
       "          0,  69,   0,   0,  37, 237, 192,  64,   0,  64,  17, 183, 177,\n",
       "        192, 168,  10,   2, 192, 168,  10,   3, 237, 164, 234, 104,   0,\n",
       "         17, 236, 105,   8, 254,  97,   0,   0,   0,  60,   0,   0,   0],\n",
       "       [220, 166,  50,  94,  72,  71, 220, 166,  50,  93, 206, 210,   8,\n",
       "          0,  69,   0,   0,  37, 237, 193,  64,   0,  64,  17, 183, 176,\n",
       "        192, 168,  10,   2, 192, 168,  10,   3, 162,   8, 234,  96,   0,\n",
       "         17, 214,  12,   8,   0,   0,   0,   0,   0,   0,   0,   0,   0]],\n",
       "      dtype=uint8)"
      ]
     },
     "execution_count": 9,
     "metadata": {},
     "output_type": "execute_result"
    }
   ],
   "source": [
    "values[0:2]"
   ]
  },
  {
   "cell_type": "code",
   "execution_count": 10,
   "id": "72dbba68",
   "metadata": {},
   "outputs": [
    {
     "name": "stdout",
     "output_type": "stream",
     "text": [
      "0 2\n",
      "1 3\n",
      "2 4\n",
      "3 5\n",
      "4 6\n",
      "5 7\n",
      "6 8\n",
      "7 9\n"
     ]
    }
   ],
   "source": [
    "X, y = list(), list()\n",
    "\n",
    "# Loop of the entire data set\n",
    "for i in range(values.shape[0]):\n",
    "    # Compute a new (sliding window) index\n",
    "    start_ix = i*(1)\n",
    "    end_ix = start_ix + 2 - 1 + 1\n",
    "    print(start_ix, end_ix)\n",
    "\n",
    "    # If index is larger than the size of the dataset, we stop\n",
    "    if end_ix >= values.shape[0]:\n",
    "        break\n",
    "\n",
    "    # Get a sequence of data for x\n",
    "    seq_X = values[start_ix:end_ix]\n",
    "\n",
    "    # Append the list with sequences\n",
    "    X.append(seq_X)"
   ]
  },
  {
   "cell_type": "code",
   "execution_count": 11,
   "id": "7dfd2020",
   "metadata": {},
   "outputs": [
    {
     "data": {
      "text/plain": [
       "(7, 2, 52)"
      ]
     },
     "execution_count": 11,
     "metadata": {},
     "output_type": "execute_result"
    }
   ],
   "source": [
    "np.array(X).shape"
   ]
  },
  {
   "cell_type": "code",
   "execution_count": 26,
   "id": "77be5dba",
   "metadata": {},
   "outputs": [],
   "source": [
    "def get_label_mapping():\n",
    "    return {\n",
    "        'Normal': 'Normal',\n",
    "        'C_D': 'CAN DoS',\n",
    "        'P_I': 'PTP Sync',\n",
    "        'M_F': 'Switch MAC Flooding',\n",
    "        'F_I': 'Frame Injection',\n",
    "        'C_R': 'CAN Replay',\n",
    "    }\n",
    "    \n",
    "def labeling_schema(sequence: pd.DataFrame) -> bool:    \n",
    "    seq_y = 'Abnormal'\n",
    "    # Remove Abnormal label\n",
    "    labels = get_label_mapping().values()\n",
    "    labels = [label for label in labels if label != 'Normal']\n",
    "\n",
    "    indexes = sequence['Description'].value_counts().sort_values(ascending=False).reset_index()\n",
    "    indexes_list = list(indexes['Description'].values)\n",
    "\n",
    "    set_attacks = set(labels)\n",
    "    set_sequence_indexes = set(indexes_list)\n",
    "\n",
    "    intersect = any(set_atk in set_sequence_indexes for set_atk in set_attacks)\n",
    "\n",
    "    if intersect is True:\n",
    "        attacks_mask = indexes['Description'].isin(labels)\n",
    "        indexes_attacks = indexes[attacks_mask]\n",
    "        seq_y = indexes_attacks['Description'].values[0]\n",
    "\n",
    "    return seq_y"
   ]
  },
  {
   "cell_type": "code",
   "execution_count": 16,
   "id": "083be940",
   "metadata": {},
   "outputs": [
    {
     "data": {
      "text/plain": [
       "False"
      ]
     },
     "execution_count": 16,
     "metadata": {},
     "output_type": "execute_result"
    }
   ],
   "source": [
    "'Abnormal' in labels[0:2]['Class'].values"
   ]
  },
  {
   "cell_type": "code",
   "execution_count": 27,
   "id": "39fb4c83",
   "metadata": {},
   "outputs": [
    {
     "name": "stdout",
     "output_type": "stream",
     "text": [
      "140309 280629\n",
      "140310 280630\n",
      "140311 280631\n",
      "140312 280632\n",
      "140313 280633\n",
      "140314 280634\n",
      "140315 280635\n",
      "140316 280636\n",
      "140317 280637\n"
     ]
    }
   ],
   "source": [
    "X, y = list(), list()\n",
    "\n",
    "# Loop of the entire data set\n",
    "for i in range(values.shape[0]):\n",
    "    # Compute a new (sliding window) index\n",
    "    start_ix = i*(1) + 140319 - 10\n",
    "    end_ix = start_ix + 2 - 1 + 1 + 140319 - 1\n",
    "    print(start_ix, end_ix)\n",
    "\n",
    "    # If index is larger than the size of the dataset, we stop\n",
    "    # if end_ix >= values.shape[0]:\n",
    "        # break\n",
    "\n",
    "    # Get a sequence of data for x\n",
    "    seq_X = values[start_ix:end_ix]\n",
    "\n",
    "    # Get a squence of data for y\n",
    "    tmp_seq_y = labels[start_ix : end_ix]\n",
    "\n",
    "    # Labeling schema\n",
    "    seq_y = labeling_schema(tmp_seq_y)\n",
    "\n",
    "    # Append the list with sequences\n",
    "    X.append(seq_X)\n",
    "    y.append(seq_y)"
   ]
  },
  {
   "cell_type": "markdown",
   "id": "885394ac",
   "metadata": {},
   "source": [
    "## Loading features"
   ]
  },
  {
   "cell_type": "code",
   "execution_count": 6,
   "id": "4d90af5d",
   "metadata": {},
   "outputs": [],
   "source": [
    "X = np.load('../data/tow-ids-dataset/processed/X_train_fg_sliding-window-generator_Wsize_44_Wstride_1_nb_52.npz')\n",
    "X = X.f.arr_0"
   ]
  },
  {
   "cell_type": "code",
   "execution_count": 7,
   "id": "372bf8e8",
   "metadata": {},
   "outputs": [
    {
     "data": {
      "text/plain": [
       "(1203693, 44, 52)"
      ]
     },
     "execution_count": 7,
     "metadata": {},
     "output_type": "execute_result"
    }
   ],
   "source": [
    "X.shape"
   ]
  },
  {
   "cell_type": "code",
   "execution_count": 47,
   "id": "2614f151",
   "metadata": {},
   "outputs": [],
   "source": [
    "y = pd.read_csv('../data/tow-ids-dataset/processed/y_train_fg_sliding-window-generator_Wsize_44_Wstride_1_nb_52.csv')\n",
    "y = y['label'].values"
   ]
  },
  {
   "cell_type": "code",
   "execution_count": 48,
   "id": "0bbf2392",
   "metadata": {},
   "outputs": [
    {
     "data": {
      "text/plain": [
       "(1203693,)"
      ]
     },
     "execution_count": 48,
     "metadata": {},
     "output_type": "execute_result"
    }
   ],
   "source": [
    "y.shape"
   ]
  },
  {
   "cell_type": "code",
   "execution_count": 50,
   "id": "474ac452",
   "metadata": {},
   "outputs": [
    {
     "data": {
      "text/plain": [
       "(1203693, 44, 52)"
      ]
     },
     "execution_count": 50,
     "metadata": {},
     "output_type": "execute_result"
    }
   ],
   "source": [
    "X.shape"
   ]
  },
  {
   "cell_type": "code",
   "execution_count": 54,
   "id": "cd77097d",
   "metadata": {},
   "outputs": [
    {
     "data": {
      "text/plain": [
       "(1203693, 2288)"
      ]
     },
     "execution_count": 54,
     "metadata": {},
     "output_type": "execute_result"
    }
   ],
   "source": [
    "X.reshape(X.shape[0], X.shape[1] * X.shape[2]).shape"
   ]
  },
  {
   "cell_type": "code",
   "execution_count": 8,
   "id": "40d55b35",
   "metadata": {},
   "outputs": [],
   "source": [
    "idx = np.arange(len(X))"
   ]
  },
  {
   "cell_type": "code",
   "execution_count": 9,
   "id": "a0ddd82a",
   "metadata": {},
   "outputs": [],
   "source": [
    "from sklearn.model_selection import train_test_split\n",
    "\n",
    "\n",
    "train_val_idx, test_idx = train_test_split(idx, train_size=0.8, random_state=10, shuffle=True)"
   ]
  },
  {
   "cell_type": "code",
   "execution_count": 10,
   "id": "4eb915e3",
   "metadata": {},
   "outputs": [],
   "source": [
    "# TODO: Check if it is unsupervised\n",
    "benign_idx = labels[labels['Description'] == 'Normal'].index"
   ]
  },
  {
   "cell_type": "code",
   "execution_count": 11,
   "id": "48b72b8b",
   "metadata": {},
   "outputs": [],
   "source": [
    "# Filter train_idx with benign_idx\n",
    "train_idx = np.array([i for i in train_val_idx if i in benign_idx])"
   ]
  },
  {
   "cell_type": "code",
   "execution_count": 12,
   "id": "46ea3dba",
   "metadata": {},
   "outputs": [],
   "source": [
    "rest_idx = np.array([i for i in train_val_idx if i not in benign_idx])"
   ]
  },
  {
   "cell_type": "code",
   "execution_count": 13,
   "id": "e1ce8e9b",
   "metadata": {},
   "outputs": [],
   "source": [
    "train_idx, val_idx = train_test_split(train_idx, train_size=0.8, random_state=10, shuffle=True)"
   ]
  },
  {
   "cell_type": "code",
   "execution_count": 14,
   "id": "2efbba3d",
   "metadata": {},
   "outputs": [
    {
     "data": {
      "text/plain": [
       "True"
      ]
     },
     "execution_count": 14,
     "metadata": {},
     "output_type": "execute_result"
    }
   ],
   "source": [
    "(len(train_idx) + len(val_idx) + len(test_idx) + len(rest_idx)) == len(idx)"
   ]
  },
  {
   "cell_type": "code",
   "execution_count": 15,
   "id": "0e5868dc",
   "metadata": {},
   "outputs": [],
   "source": [
    "for i in range(len(X)):\n",
    "    count = 0\n",
    "    if i in train_idx:\n",
    "        count += 1\n",
    "    if i in val_idx:\n",
    "        count += 1\n",
    "    if i in test_idx:\n",
    "        count += 1\n",
    "    if i in rest_idx:\n",
    "        count += 1\n",
    "\n",
    "    if count > 1:\n",
    "        print(f\"Index {i} is in more than one set: {count}\")\n",
    "        break"
   ]
  },
  {
   "cell_type": "code",
   "execution_count": 3,
   "id": "184fcb45",
   "metadata": {},
   "outputs": [],
   "source": [
    "a = np.array([[1, 2, 3, 4, 5], [6, 7, 8, 9, 10]])"
   ]
  },
  {
   "cell_type": "code",
   "execution_count": 8,
   "id": "2f8b1bb5",
   "metadata": {},
   "outputs": [
    {
     "name": "stderr",
     "output_type": "stream",
     "text": [
      "/var/folders/fs/f8qz96w55l1cqqbyb70x11380000gn/T/ipykernel_16065/1188972168.py:2: UserWarning: To copy construct from a tensor, it is recommended to use sourceTensor.detach().clone() or sourceTensor.detach().clone().requires_grad_(True), rather than torch.tensor(sourceTensor).\n",
      "  a_tensor = torch.tensor(a, dtype=torch.float32)\n"
     ]
    }
   ],
   "source": [
    "# create float tensor\n",
    "a_tensor = torch.tensor(a, dtype=torch.float32)"
   ]
  },
  {
   "cell_type": "code",
   "execution_count": 14,
   "id": "2c4f68e1",
   "metadata": {},
   "outputs": [],
   "source": [
    "b = a_tensor.mean(dim=1)"
   ]
  },
  {
   "cell_type": "code",
   "execution_count": 16,
   "id": "db21ecbe",
   "metadata": {},
   "outputs": [
    {
     "data": {
      "text/plain": [
       "tensor(5.5000)"
      ]
     },
     "execution_count": 16,
     "metadata": {},
     "output_type": "execute_result"
    }
   ],
   "source": [
    "b.mean()"
   ]
  },
  {
   "cell_type": "code",
   "execution_count": null,
   "id": "d0891e5e",
   "metadata": {},
   "outputs": [],
   "source": []
  },
  {
   "cell_type": "code",
   "execution_count": null,
   "id": "462611c4",
   "metadata": {},
   "outputs": [],
   "source": [
    "def load_processed(subset: int = None) -> tuple[np.ndarray, pd.DataFrame]:\n",
    "        X = np.load('../data/tow-ids-dataset/processed/X_train_fg_sliding-window-generator_Wsize_44_Wstride_1_nb_52.npz')\n",
    "        X = X.f.arr_0\n",
    "\n",
    "        y = pd.read_csv('../data/tow-ids-dataset/processed/y_train_fg_sliding-window-generator_Wsize_44_Wstride_1_nb_52.csv', index_col=0)\n",
    "\n",
    "        if subset is not None:\n",
    "            indices = np.random.choice(len(X), size=int(subset*len(X)), replace=False)\n",
    "            X = X[indices]\n",
    "            y = y.iloc[indices].reset_index(drop=True)\n",
    "\n",
    "        return X, y"
   ]
  },
  {
   "cell_type": "code",
   "execution_count": 23,
   "id": "d5638e28",
   "metadata": {},
   "outputs": [],
   "source": [
    "X, y = load_processed(subset=0.1)"
   ]
  },
  {
   "cell_type": "code",
   "execution_count": 24,
   "id": "e797c82f",
   "metadata": {},
   "outputs": [],
   "source": [
    "from sklearn.model_selection import train_test_split\n",
    "\n",
    "def __divide_data(X, labels: pd.DataFrame):\n",
    "        # Shuffle the data\n",
    "        idx = np.arange(X.shape[0])\n",
    "\n",
    "        train_val_idx, test_idx = train_test_split(idx, train_size=0.8, random_state=10, shuffle=True)\n",
    "\n",
    "        # TODO: Check if it is unsupervised\n",
    "        benign_idx = labels[labels['label'] == 'Normal'].index\n",
    "\n",
    "        # Filter train_idx with benign_idx\n",
    "        train_idx = np.array([i for i in train_val_idx if i in benign_idx])\n",
    "        train_idx, val_idx = train_test_split(train_idx, train_size=0.8, random_state=10, shuffle=True)\n",
    "\n",
    "        return train_idx, val_idx, test_idx"
   ]
  },
  {
   "cell_type": "code",
   "execution_count": 25,
   "id": "2eb8d353",
   "metadata": {},
   "outputs": [
    {
     "data": {
      "text/plain": [
       "array([[[0.00392157, 0.5019608 , 0.7607843 , ..., 0.        ,\n",
       "         0.        , 0.        ],\n",
       "        [0.8627451 , 0.6509804 , 0.19607843, ..., 0.        ,\n",
       "         0.        , 0.        ],\n",
       "        [0.00392157, 0.5019608 , 0.7607843 , ..., 0.        ,\n",
       "         0.        , 0.        ],\n",
       "        ...,\n",
       "        [0.8627451 , 0.6509804 , 0.19607843, ..., 0.        ,\n",
       "         0.        , 0.        ],\n",
       "        [0.8627451 , 0.6509804 , 0.19607843, ..., 0.        ,\n",
       "         0.05490196, 0.        ],\n",
       "        [0.8627451 , 0.6509804 , 0.19607843, ..., 0.69803923,\n",
       "         0.12941177, 0.        ]]], shape=(1, 44, 52), dtype=float32)"
      ]
     },
     "execution_count": 25,
     "metadata": {},
     "output_type": "execute_result"
    }
   ],
   "source": [
    "X[:1]"
   ]
  },
  {
   "cell_type": "code",
   "execution_count": 26,
   "id": "6604b0d7",
   "metadata": {},
   "outputs": [
    {
     "data": {
      "application/vnd.microsoft.datawrangler.viewer.v0+json": {
       "columns": [
        {
         "name": "index",
         "rawType": "int64",
         "type": "integer"
        },
        {
         "name": "index",
         "rawType": "int64",
         "type": "integer"
        },
        {
         "name": "label",
         "rawType": "object",
         "type": "string"
        }
       ],
       "conversionMethod": "pd.DataFrame",
       "ref": "7bf9ee12-8b77-40d0-b47f-c0338aeb07dd",
       "rows": [
        [
         "0",
         "1011791",
         "PTP Sync"
        ],
        [
         "1",
         "93226",
         "Normal"
        ],
        [
         "2",
         "182234",
         "CAN DoS"
        ],
        [
         "3",
         "851856",
         "Frame Injection"
        ],
        [
         "4",
         "1110611",
         "PTP Sync"
        ]
       ],
       "shape": {
        "columns": 2,
        "rows": 5
       }
      },
      "text/html": [
       "<div>\n",
       "<style scoped>\n",
       "    .dataframe tbody tr th:only-of-type {\n",
       "        vertical-align: middle;\n",
       "    }\n",
       "\n",
       "    .dataframe tbody tr th {\n",
       "        vertical-align: top;\n",
       "    }\n",
       "\n",
       "    .dataframe thead th {\n",
       "        text-align: right;\n",
       "    }\n",
       "</style>\n",
       "<table border=\"1\" class=\"dataframe\">\n",
       "  <thead>\n",
       "    <tr style=\"text-align: right;\">\n",
       "      <th></th>\n",
       "      <th>index</th>\n",
       "      <th>label</th>\n",
       "    </tr>\n",
       "  </thead>\n",
       "  <tbody>\n",
       "    <tr>\n",
       "      <th>0</th>\n",
       "      <td>1011791</td>\n",
       "      <td>PTP Sync</td>\n",
       "    </tr>\n",
       "    <tr>\n",
       "      <th>1</th>\n",
       "      <td>93226</td>\n",
       "      <td>Normal</td>\n",
       "    </tr>\n",
       "    <tr>\n",
       "      <th>2</th>\n",
       "      <td>182234</td>\n",
       "      <td>CAN DoS</td>\n",
       "    </tr>\n",
       "    <tr>\n",
       "      <th>3</th>\n",
       "      <td>851856</td>\n",
       "      <td>Frame Injection</td>\n",
       "    </tr>\n",
       "    <tr>\n",
       "      <th>4</th>\n",
       "      <td>1110611</td>\n",
       "      <td>PTP Sync</td>\n",
       "    </tr>\n",
       "  </tbody>\n",
       "</table>\n",
       "</div>"
      ],
      "text/plain": [
       "     index            label\n",
       "0  1011791         PTP Sync\n",
       "1    93226           Normal\n",
       "2   182234          CAN DoS\n",
       "3   851856  Frame Injection\n",
       "4  1110611         PTP Sync"
      ]
     },
     "execution_count": 26,
     "metadata": {},
     "output_type": "execute_result"
    }
   ],
   "source": [
    "y.head()"
   ]
  },
  {
   "cell_type": "code",
   "execution_count": 30,
   "id": "01830e45",
   "metadata": {},
   "outputs": [],
   "source": [
    "train_idx, val_idx, test_idx = __divide_data(X, y)"
   ]
  },
  {
   "cell_type": "code",
   "execution_count": 31,
   "id": "773ada1f",
   "metadata": {},
   "outputs": [],
   "source": [
    "train_df = pd.DataFrame([y.iloc[i]['label'] for i in train_idx], columns=['label'])\n",
    "val_df = pd.DataFrame([y.iloc[i]['label'] for i in val_idx], columns=['label'])\n",
    "test_df = pd.DataFrame([y.iloc[i]['label'] for i in test_idx], columns=['label'])"
   ]
  },
  {
   "cell_type": "code",
   "execution_count": 32,
   "id": "24884294",
   "metadata": {},
   "outputs": [
    {
     "data": {
      "text/plain": [
       "label \n",
       "Normal    36120\n",
       "Name: count, dtype: int64"
      ]
     },
     "execution_count": 32,
     "metadata": {},
     "output_type": "execute_result"
    }
   ],
   "source": [
    "train_df.value_counts()"
   ]
  },
  {
   "cell_type": "code",
   "execution_count": 34,
   "id": "a6830864",
   "metadata": {},
   "outputs": [
    {
     "data": {
      "text/plain": [
       "label \n",
       "Normal    9030\n",
       "Name: count, dtype: int64"
      ]
     },
     "execution_count": 34,
     "metadata": {},
     "output_type": "execute_result"
    }
   ],
   "source": [
    "val_df.value_counts()"
   ]
  },
  {
   "cell_type": "code",
   "execution_count": null,
   "id": "45d4534b",
   "metadata": {},
   "outputs": [
    {
     "data": {
      "text/plain": [
       "label              \n",
       "Normal                 11262\n",
       "PTP Sync                3876\n",
       "CAN DoS                 3448\n",
       "Switch MAC Flooding     2168\n",
       "CAN Replay              2058\n",
       "Frame Injection         1262\n",
       "Name: count, dtype: int64"
      ]
     },
     "execution_count": 35,
     "metadata": {},
     "output_type": "execute_result"
    }
   ],
   "source": [
    "test_df.value_counts()"
   ]
  }
 ],
 "metadata": {
  "kernelspec": {
   "display_name": ".venv",
   "language": "python",
   "name": "python3"
  },
  "language_info": {
   "codemirror_mode": {
    "name": "ipython",
    "version": 3
   },
   "file_extension": ".py",
   "mimetype": "text/x-python",
   "name": "python",
   "nbconvert_exporter": "python",
   "pygments_lexer": "ipython3",
   "version": "3.12.8"
  }
 },
 "nbformat": 4,
 "nbformat_minor": 5
}
